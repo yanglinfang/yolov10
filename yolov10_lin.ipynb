{
 "cells": [
  {
   "cell_type": "code",
   "execution_count": 7,
   "id": "4e862d34-cebe-46ae-b83c-acec6868cc0a",
   "metadata": {},
   "outputs": [
    {
     "name": "stdout",
     "output_type": "stream",
     "text": [
      "CONTRIBUTING.md  docker      figures\t pyproject.toml    ultralytics.egg-info\n",
      "LICENSE\t\t dockerfile  flops.py\t requirements.txt  yolov10_lin.ipynb\n",
      "README.md\t docs\t     logs\t tests\n",
      "app.py\t\t examples    mkdocs.yml  ultralytics\n"
     ]
    }
   ],
   "source": [
    "!ls /app"
   ]
  },
  {
   "cell_type": "code",
   "execution_count": 8,
   "id": "1ae28313-0670-4b93-8007-7f3c2c5efc94",
   "metadata": {},
   "outputs": [
    {
     "name": "stdout",
     "output_type": "stream",
     "text": [
      "README.md\t\t\t\tdatasets\n",
      "YOLOv8-CPP-Inference\t\t\theatmaps.ipynb\n",
      "YOLOv8-LibTorch-CPP-Inference\t\thub.ipynb\n",
      "YOLOv8-ONNXRuntime\t\t\tobject_counting.ipynb\n",
      "YOLOv8-ONNXRuntime-CPP\t\t\tobject_tracking.ipynb\n",
      "YOLOv8-ONNXRuntime-Rust\t\t\truns\n",
      "YOLOv8-OpenCV-ONNX-Python\t\ttmp.zip\n",
      "YOLOv8-OpenCV-int8-tflite-Python\ttutorial.ipynb\n",
      "YOLOv8-Region-Counter\t\t\tyolov8n.pt\n",
      "YOLOv8-SAHI-Inference-Video\t\tyolov8n.torchscript\n",
      "YOLOv8-Segmentation-ONNXRuntime-Python\tzidane.jpg\n",
      "bus.jpg\n"
     ]
    }
   ],
   "source": [
    "!ls /app/examples  "
   ]
  },
  {
   "cell_type": "code",
   "execution_count": 9,
   "id": "81dbf359-4bf5-40b9-8fe5-2ad7e6fa62d6",
   "metadata": {},
   "outputs": [],
   "source": [
    "import torch"
   ]
  },
  {
   "cell_type": "code",
   "execution_count": 10,
   "id": "df0a68aa-b5b2-42a1-af3e-71a3082e2d4b",
   "metadata": {},
   "outputs": [],
   "source": [
    "import ultralytics"
   ]
  },
  {
   "cell_type": "code",
   "execution_count": 11,
   "id": "3dff8b90-cd8c-48ae-bd26-d5cc04a96e2c",
   "metadata": {},
   "outputs": [],
   "source": [
    "import cv2"
   ]
  },
  {
   "cell_type": "code",
   "execution_count": 14,
   "id": "fb538410-8f7c-4c3e-9b08-805f8c2bcad6",
   "metadata": {},
   "outputs": [
    {
     "name": "stdout",
     "output_type": "stream",
     "text": [
      "Importing worked! You are all set!\n"
     ]
    }
   ],
   "source": [
    "print('Importing worked! You are all set!')"
   ]
  },
  {
   "cell_type": "code",
   "execution_count": 15,
   "id": "29ee3c90-f48a-402f-b6c2-cae533e8c755",
   "metadata": {},
   "outputs": [
    {
     "name": "stdout",
     "output_type": "stream",
     "text": [
      "CONTRIBUTING.md  docker      figures\t pyproject.toml    ultralytics.egg-info\n",
      "LICENSE\t\t dockerfile  flops.py\t requirements.txt  yolov10_lin.ipynb\n",
      "README.md\t docs\t     logs\t tests\n",
      "app.py\t\t examples    mkdocs.yml  ultralytics\n"
     ]
    }
   ],
   "source": [
    "!ls"
   ]
  },
  {
   "cell_type": "code",
   "execution_count": null,
   "id": "c425816b-c691-4bcc-a305-5953db4fd835",
   "metadata": {},
   "outputs": [],
   "source": []
  }
 ],
 "metadata": {
  "kernelspec": {
   "display_name": "Python 3 (ipykernel)",
   "language": "python",
   "name": "python3"
  },
  "language_info": {
   "codemirror_mode": {
    "name": "ipython",
    "version": 3
   },
   "file_extension": ".py",
   "mimetype": "text/x-python",
   "name": "python",
   "nbconvert_exporter": "python",
   "pygments_lexer": "ipython3",
   "version": "3.9.19"
  }
 },
 "nbformat": 4,
 "nbformat_minor": 5
}
