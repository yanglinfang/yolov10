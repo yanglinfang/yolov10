{
 "cells": [
  {
   "cell_type": "code",
   "execution_count": 1,
   "id": "4e862d34-cebe-46ae-b83c-acec6868cc0a",
   "metadata": {},
   "outputs": [
    {
     "name": "stdout",
     "output_type": "stream",
     "text": [
      "CONTRIBUTING.md  docker      figures\t pyproject.toml    ultralytics.egg-info\n",
      "LICENSE\t\t dockerfile  flops.py\t requirements.txt  yolov10_lin.ipynb\n",
      "README.md\t docs\t     logs\t tests\n",
      "app.py\t\t examples    mkdocs.yml  ultralytics\n"
     ]
    }
   ],
   "source": [
    "!ls /app"
   ]
  },
  {
   "cell_type": "code",
   "execution_count": 2,
   "id": "1ae28313-0670-4b93-8007-7f3c2c5efc94",
   "metadata": {},
   "outputs": [
    {
     "name": "stdout",
     "output_type": "stream",
     "text": [
      "README.md\t\t\t  YOLOv8-Segmentation-ONNXRuntime-Python\n",
      "YOLOv8-CPP-Inference\t\t  heatmaps.ipynb\n",
      "YOLOv8-LibTorch-CPP-Inference\t  hub.ipynb\n",
      "YOLOv8-ONNXRuntime\t\t  object_counting.ipynb\n",
      "YOLOv8-ONNXRuntime-CPP\t\t  object_tracking.ipynb\n",
      "YOLOv8-ONNXRuntime-Rust\t\t  runs\n",
      "YOLOv8-OpenCV-ONNX-Python\t  tmp436wf9dc\n",
      "YOLOv8-OpenCV-int8-tflite-Python  tutorial.ipynb\n",
      "YOLOv8-Region-Counter\t\t  yolov8n.pt\n",
      "YOLOv8-SAHI-Inference-Video\t  zidane.jpg\n"
     ]
    }
   ],
   "source": [
    "!ls /app/examples  "
   ]
  },
  {
   "cell_type": "code",
   "execution_count": null,
   "id": "81dbf359-4bf5-40b9-8fe5-2ad7e6fa62d6",
   "metadata": {},
   "outputs": [],
   "source": []
  }
 ],
 "metadata": {
  "kernelspec": {
   "display_name": "Python 3 (ipykernel)",
   "language": "python",
   "name": "python3"
  },
  "language_info": {
   "codemirror_mode": {
    "name": "ipython",
    "version": 3
   },
   "file_extension": ".py",
   "mimetype": "text/x-python",
   "name": "python",
   "nbconvert_exporter": "python",
   "pygments_lexer": "ipython3",
   "version": "3.9.19"
  }
 },
 "nbformat": 4,
 "nbformat_minor": 5
}
