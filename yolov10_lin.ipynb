{
 "cells": [
  {
   "cell_type": "code",
   "execution_count": 38,
   "id": "4e862d34-cebe-46ae-b83c-acec6868cc0a",
   "metadata": {},
   "outputs": [
    {
     "name": "stdout",
     "output_type": "stream",
     "text": [
      "CONTRIBUTING.md  app.py      examples  mkdocs.yml\t ultralytics\n",
      "LICENSE\t\t docker      figures   pyproject.toml\t ultralytics.egg-info\n",
      "README.md\t dockerfile  flops.py  requirements.txt  yolov10_lin.ipynb\n",
      "app\t\t docs\t     logs      tests\n"
     ]
    }
   ],
   "source": [
    "!ls /app"
   ]
  },
  {
   "cell_type": "code",
   "execution_count": 40,
   "id": "1ae28313-0670-4b93-8007-7f3c2c5efc94",
   "metadata": {},
   "outputs": [
    {
     "name": "stdout",
     "output_type": "stream",
     "text": [
      "README.md\t\t\t  YOLOv8-Region-Counter\n",
      "YOLOv8-CPP-Inference\t\t  YOLOv8-SAHI-Inference-Video\n",
      "YOLOv8-LibTorch-CPP-Inference\t  YOLOv8-Segmentation-ONNXRuntime-Python\n",
      "YOLOv8-ONNXRuntime\t\t  heatmaps.ipynb\n",
      "YOLOv8-ONNXRuntime-CPP\t\t  hub.ipynb\n",
      "YOLOv8-ONNXRuntime-Rust\t\t  object_counting.ipynb\n",
      "YOLOv8-OpenCV-ONNX-Python\t  object_tracking.ipynb\n",
      "YOLOv8-OpenCV-int8-tflite-Python  tutorial.ipynb\n"
     ]
    }
   ],
   "source": [
    "!ls /app/examples  "
   ]
  },
  {
   "cell_type": "code",
   "execution_count": null,
   "id": "81dbf359-4bf5-40b9-8fe5-2ad7e6fa62d6",
   "metadata": {},
   "outputs": [],
   "source": []
  }
 ],
 "metadata": {
  "kernelspec": {
   "display_name": "Python 3 (ipykernel)",
   "language": "python",
   "name": "python3"
  },
  "language_info": {
   "codemirror_mode": {
    "name": "ipython",
    "version": 3
   },
   "file_extension": ".py",
   "mimetype": "text/x-python",
   "name": "python",
   "nbconvert_exporter": "python",
   "pygments_lexer": "ipython3",
   "version": "3.9.19"
  }
 },
 "nbformat": 4,
 "nbformat_minor": 5
}
